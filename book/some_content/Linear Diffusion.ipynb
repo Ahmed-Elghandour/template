{
 "cells": [
  {
   "cell_type": "markdown",
   "metadata": {},
   "source": [
    "# Ahmed\n",
    "\n",
    "Lorem ipsum dolor sit amet, consectetur adipiscing elit, sed do eiusmod tempor incididunt ut labore et dolore magna aliqua. Ut enim ad minim veniam, quis nostrud exercitation ullamco laboris nisi ut aliquip ex ea commodo consequat. Duis aute irure dolor in reprehenderit in voluptate velit esse cillum dolore eu fugiat nulla pariatur. Excepteur sint occaecat cupidatat non proident, sunt in culpa qui officia deserunt mollit anim id est laborum."
   ]
  },
  {
   "cell_type": "code",
   "execution_count": 1,
   "metadata": {},
   "outputs": [
    {
     "name": "stdout",
     "output_type": "stream",
     "text": [
      "hello world\n"
     ]
    }
   ],
   "source": [
    import numpy as np
import matplotlib.pyplot as plt

X = 5000
L = 5000
k = 4 * np.pi / L
a = 100
x = np.arange(0, X + 1, 50)
n = 5000 / 50

Dc = 10
Q = 10**5
v = 2 * Q / Dc

tstop = 30
t = np.arange(0, tstop + tstop / 5, tstop / 5)

y1 = np.zeros(len(x))
s = np.zeros((len(x), len(t)))

for j in range(len(t)):
    y1 = a * np.exp(-v * k**2 * t[j]) * np.cos(k * x)
   ]
  }
 ],
 "metadata": {
  "kernelspec": {
   "display_name": "base",
   "language": "python",
   "name": "python3"
  },
  "language_info": {
   "codemirror_mode": {
    "name": "ipython",
    "version": 3
   },
   "file_extension": ".py",
   "mimetype": "text/x-python",
   "name": "python",
   "nbconvert_exporter": "python",
   "pygments_lexer": "ipython3",
   "version": "3.9.18"
  }
 },
 "nbformat": 4,
 "nbformat_minor": 2
}
