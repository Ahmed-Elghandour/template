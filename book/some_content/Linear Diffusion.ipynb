{
 "cells": [
  {
   "cell_type": "markdown",
   "metadata": {},
   "source": [
    "# Linear Diffusion\n",
    "\n",
    "Lorem ipsum dolor sit amet, consectetur adipiscing elit, sed do eiusmod tempor incididunt ut labore et dolore magna aliqua. Ut enim ad minim veniam, quis nostrud exercitation ullamco laboris nisi ut aliquip ex ea commodo consequat. Duis aute irure dolor in reprehenderit in voluptate velit esse cillum dolore eu fugiat nulla pariatur. Excepteur sint occaecat cupidatat non proident, sunt in culpa qui officia deserunt mollit anim id est laborum."
   ]
  },
  {
   "cell_type": "code",
   "execution_count": 1,
   "metadata": {},
   "outputs": [
    {
     "name": "stdout",
     "output_type": "stream",
 "text": [
      "Linear Diffusion\n"
     ]
    }
   ],
   "source": [
     "import numpy as np\n",
    "import matplotlib.pyplot as plt\n",
    "\n",
    "X = 5000\n",
    "L = 5000\n",
    "k = 4 * np.pi / L\n",
    "a = 100\n",
    "x = np.arange(0, X + 1, 50)\n",
    "\n",
    "y = -a * np.cos(k * x)\n",
    "\n",
    "plt.plot(x, y)\n",
    "plt.xlabel('alongshore [m]')\n",
    "plt.ylabel('cross-shore [m]')\n",
    "plt.title('Plot of y against x')\n",
    "plt.grid(True)\n",
    "plt.show()"
   ]
  }
 ],
 "metadata": {
  "kernelspec": {
   "display_name": "base",
   "language": "python",
   "name": "python3"
  },
  "language_info": {
   "codemirror_mode": {
    "name": "ipython",
    "version": 3
   },
   "file_extension": ".py",
   "mimetype": "text/x-python",
   "name": "python",
   "nbconvert_exporter": "python",
   "pygments_lexer": "ipython3",
   "version": "3.9.18"
  }
 },
 "nbformat": 4,
 "nbformat_minor": 2
}
