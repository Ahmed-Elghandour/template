{
 "cells": [
  {
   "cell_type": "markdown",
   "metadata": {},
   "source": [
    "# Linear Diffusion\n",
    "\n",
    "Lorem ipsum dolor sit amet, consectetur adipiscing elit, sed do eiusmod tempor incididunt ut labore et dolore magna aliqua. Ut enim ad minim veniam, quis nostrud exercitation ullamco laboris nisi ut aliquip ex ea commodo consequat. Duis aute irure dolor in reprehenderit in voluptate velit esse cillum dolore eu fugiat nulla pariatur. Excepteur sint occaecat cupidatat non proident, sunt in culpa qui officia deserunt mollit anim id est laborum."
   ]
  },
  {
   "cell_type": "code",
   "execution_count": 1,
   "metadata": {},
   "outputs": [],
   "source": [
"import numpy as np\n"
    "import matplotlib.pyplot as plt\n\n",
    "X = 5000\n",
    "L = 5000\n",
    "k = 4 * np.pi / L\n",
    "a = 100\n",
    "x = np.arange(0, X + 1, 50)\n",
    "n = 5000 / 50\n\n",
    "Dc = 10\n",
    "Q = 10**5\n",
    "v = 2 * Q / Dc\n\n",
    "tstop = 30\n",
    "t = np.arange(0, tstop + tstop / 5, tstop / 5)\n\n",
    "y1 = np.zeros(len(x))\n",
    "s = np.zeros((len(x), len(t)))\n\n",
    "for j in range(len(t)):\n",
    "    y1 = a * np.exp(-v * k**2 * t[j]) * np.cos(k * x)\n",
    "    s[:, j] = y1\n",
    "    plt.plot(x, y1, label=f't={t[j]}yrs', linewidth=2)\n\n",
    "plt.xlabel('alongshore [m]')\n",
    "plt.ylabel('cross-shore [m]')\n",
    "plt.legend()\n",
    "plt.grid(True)\n",
    "plt.show()\n"
   ]
  }
 ],
 "metadata": {
  "kernelspec": {
   "display_name": "base",
   "language": "python",
   "name": "python3"
  },
  "language_info": {
   "codemirror_mode": {
    "name": "ipython",
    "version": 3
   },
   "file_extension": ".py",
   "mimetype": "text/x-python",
   "name": "python",
   "nbconvert_exporter": "python",
   "pygments_lexer": "ipython3",
   "version": "3.9.18"
  }
 },
 "nbformat": 4,
 "nbformat_minor": 2
}
